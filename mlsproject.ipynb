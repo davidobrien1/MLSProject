{
 "cells": [
  {
   "cell_type": "markdown",
   "metadata": {},
   "source": [
    "# MAchine Learning and Statistices \n",
    "# Project 2019\n",
    "### Student:    David O'Brien\n",
    "### Student ID: G00364766  \n",
    "\n",
    "## Boston House Prices Dataset"
   ]
  },
  {
   "cell_type": "code",
   "execution_count": 1,
   "metadata": {},
   "outputs": [],
   "source": [
    "# import libraries\n",
    "import pandas as pd\n",
    "import matplotlib.pyplot as plt\n",
    "import seaborn as sns\n",
    "import numpy as np"
   ]
  },
  {
   "cell_type": "markdown",
   "metadata": {},
   "source": [
    "# Describe\n",
    "Use descriptive statistics and plots to describe the Boston house prices.  Tell us about the Boston house price data set. Tables and plots.  Pick out the interesting parst of dataset i.e. this is the key variable and whats going on with it.  Some plots will be important, others wont\n",
    "\n",
    "Simple Linear Regression – get best fit line, use model to predict the value of houses https://towardsdatascience.com/machine-learning-project-predicting-boston-house-prices-with-regression-b4e47493633d\n",
    "https://levelup.gitconnected.com/predict-boston-house-prices-using-python-linear-regression-90469e0a341\n",
    "Calculate the cost – measure the error of our model.  \n",
    "https://towardsdatascience.com/linear-regression-using-python-b136c91bf0a2\n"
   ]
  },
  {
   "cell_type": "code",
   "execution_count": null,
   "metadata": {},
   "outputs": [],
   "source": []
  },
  {
   "cell_type": "code",
   "execution_count": null,
   "metadata": {},
   "outputs": [],
   "source": []
  },
  {
   "cell_type": "markdown",
   "metadata": {},
   "source": [
    "# Infer\n",
    "Is there a difference between house prices between houses along the river, and houses that are not. Discuss the findings within the notebook.  Use inferential statistics to analyse this."
   ]
  },
  {
   "cell_type": "markdown",
   "metadata": {},
   "source": [
    "# Predict\n",
    "Is there a difference between house prices between houses along the river, and houses that are not. Discuss the findings within the notebook.  Use inferential statistics to analyse this."
   ]
  },
  {
   "cell_type": "code",
   "execution_count": null,
   "metadata": {},
   "outputs": [],
   "source": []
  }
 ],
 "metadata": {
  "kernelspec": {
   "display_name": "Python 3",
   "language": "python",
   "name": "python3"
  },
  "language_info": {
   "codemirror_mode": {
    "name": "ipython",
    "version": 3
   },
   "file_extension": ".py",
   "mimetype": "text/x-python",
   "name": "python",
   "nbconvert_exporter": "python",
   "pygments_lexer": "ipython3",
   "version": "3.6.5"
  }
 },
 "nbformat": 4,
 "nbformat_minor": 2
}
